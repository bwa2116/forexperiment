{
  "nbformat": 4,
  "nbformat_minor": 0,
  "metadata": {
    "colab": {
      "provenance": []
    },
    "kernelspec": {
      "name": "python3",
      "display_name": "Python 3"
    },
    "language_info": {
      "name": "python"
    }
  },
  "cells": [
    {
      "cell_type": "code",
      "source": [
        "# import required module\n",
        "import os\n",
        "#json file\n",
        "import json\n",
        "import numpy as np\n",
        "# assign directory\n",
        "directory = '/content'\n",
        "\n",
        "# iterate over files in\n",
        "# that directory\n",
        "for filename in os.listdir(directory):\n",
        "    f = os.path.join(directory, filename)\n",
        "    # checking if it is a file\n",
        "    if os.path.isfile(f):\n",
        "      # Python program to read\n",
        "\n",
        "      # Opening JSON file\n",
        "      filecontent = open(f)\n",
        "\n",
        "      # returns JSON object as\n",
        "      # a dictionary\n",
        "      data = json.load(filecontent)\n",
        "\n",
        "      # Iterating through the json\n",
        "      # list\n",
        "      print(filename)\n",
        "      for i in data:\n",
        "\n",
        "        if i == 'accuracies':\n",
        "          max_acc = max(data[i])\n",
        "          max_epoch = np.argmax(data[i])\n",
        "          print(f'The highest accuracy was {max_acc:.3f} at epoch {max_epoch}')\n",
        "        elif i == 'inference_times':\n",
        "          avg_inf_time = np.average(data[i])\n",
        "          std_inf_time = np.std(data[i])\n",
        "          print(f'The average inference time was {avg_inf_time:.3f} with a standard deviation of {std_inf_time:.3f}')\n",
        "        elif i == 'train_times':\n",
        "          avg_trn_time = np.average(data[i])\n",
        "          std_trn_time = np.std(data[i])\n",
        "          print(f'The average train time was {avg_trn_time:.3f} with a standard deviation of {std_trn_time:.3f}')\n",
        "\n",
        "      # Closing file\n",
        "      filecontent.close()"
      ],
      "metadata": {
        "colab": {
          "base_uri": "https://localhost:8080/"
        },
        "id": "27-xsSy88DtB",
        "outputId": "53f837e0-2810-44b9-eba9-292082695756"
      },
      "execution_count": 2,
      "outputs": [
        {
          "output_type": "stream",
          "name": "stdout",
          "text": [
            "Places365_Performer-Softmax_with_128_random features-metrics.json\n",
            "The highest accuracy was 0.166 at epoch 2\n",
            "The average inference time was 44.123 with a standard deviation of 4.754\n",
            "The average train time was 5360.740 with a standard deviation of 41.634\n",
            "Places365_Performer-Softmax_with_64_random features-metrics.json\n",
            "The highest accuracy was 0.165 at epoch 2\n",
            "The average inference time was 48.339 with a standard deviation of 0.389\n",
            "The average train time was 5327.440 with a standard deviation of 31.198\n"
          ]
        }
      ]
    },
    {
      "cell_type": "code",
      "source": [],
      "metadata": {
        "id": "ZBs3BV8X8OiE"
      },
      "execution_count": null,
      "outputs": []
    }
  ]
}